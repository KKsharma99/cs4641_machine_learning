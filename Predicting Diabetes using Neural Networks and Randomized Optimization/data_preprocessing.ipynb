{
 "cells": [
  {
   "cell_type": "markdown",
   "metadata": {},
   "source": [
    "# Data Preprocessing"
   ]
  },
  {
   "cell_type": "code",
   "execution_count": 104,
   "metadata": {},
   "outputs": [],
   "source": [
    "import pandas as pd\n",
    "import matplotlib.pyplot as plt\n",
    "import numpy as np"
   ]
  },
  {
   "cell_type": "code",
   "execution_count": 105,
   "metadata": {},
   "outputs": [],
   "source": [
    "df = pd.read_csv('diabetes.csv')\n",
    "X = df.iloc[:, :-1].values\n",
    "y = df.iloc[:, -1].values"
   ]
  },
  {
   "cell_type": "markdown",
   "metadata": {},
   "source": [
    "### Splitting the dataset into the Training set and Test set"
   ]
  },
  {
   "cell_type": "code",
   "execution_count": 106,
   "metadata": {},
   "outputs": [],
   "source": [
    "from sklearn.cross_validation import train_test_split\n",
    "X_train, X_test, y_train, y_test = train_test_split(X, y, test_size = 0.25)"
   ]
  },
  {
   "cell_type": "code",
   "execution_count": 107,
   "metadata": {},
   "outputs": [
    {
     "data": {
      "text/plain": [
       "576"
      ]
     },
     "execution_count": 107,
     "metadata": {},
     "output_type": "execute_result"
    }
   ],
   "source": [
    "len(X_train)"
   ]
  },
  {
   "cell_type": "code",
   "execution_count": 108,
   "metadata": {},
   "outputs": [
    {
     "data": {
      "text/plain": [
       "192"
      ]
     },
     "execution_count": 108,
     "metadata": {},
     "output_type": "execute_result"
    }
   ],
   "source": [
    "len(X_test)"
   ]
  },
  {
   "cell_type": "code",
   "execution_count": 109,
   "metadata": {},
   "outputs": [
    {
     "data": {
      "text/plain": [
       "(576, 8)"
      ]
     },
     "execution_count": 109,
     "metadata": {},
     "output_type": "execute_result"
    }
   ],
   "source": [
    "X_train.shape"
   ]
  },
  {
   "cell_type": "markdown",
   "metadata": {},
   "source": [
    "### Feature Scaling"
   ]
  },
  {
   "cell_type": "code",
   "execution_count": 110,
   "metadata": {},
   "outputs": [],
   "source": [
    "from sklearn.preprocessing import StandardScaler\n",
    "sc = StandardScaler()\n",
    "X_train = sc.fit_transform(X_train)\n",
    "X_test = sc.transform(X_test)"
   ]
  },
  {
   "cell_type": "code",
   "execution_count": 111,
   "metadata": {},
   "outputs": [],
   "source": [
    "#Concatenated train and test data\n",
    "data = np.concatenate((X_train,pd.DataFrame(y_train).values.reshape(-1,1)), axis=1)\n",
    "test_data = np.concatenate((X_test,pd.DataFrame(y_test).values.reshape(-1,1)), axis=1)"
   ]
  },
  {
   "cell_type": "code",
   "execution_count": 112,
   "metadata": {},
   "outputs": [],
   "source": [
    "np.savetxt('diabetes_data.txt', data,delimiter=',', fmt='%s')\n",
    "np.savetxt('test_diabetes_data.txt',test_data,delimiter=',', fmt='%s')"
   ]
  },
  {
   "cell_type": "code",
   "execution_count": 113,
   "metadata": {},
   "outputs": [
    {
     "data": {
      "text/plain": [
       "2"
      ]
     },
     "execution_count": 113,
     "metadata": {},
     "output_type": "execute_result"
    }
   ],
   "source": [
    "len(np.unique(df.iloc[:,-1]))"
   ]
  },
  {
   "cell_type": "markdown",
   "metadata": {},
   "source": [
    "### PCA Consideration"
   ]
  },
  {
   "cell_type": "code",
   "execution_count": null,
   "metadata": {},
   "outputs": [],
   "source": [
    "# #PreProcessing(Data Compression)\n",
    "# pca = PCA()\n",
    "# pca.fit(X_train)\n",
    "# VarianceRatio = pca.explained_variance_ratio_\n",
    "\n",
    "# #plt.bar(range(0,13),VarianceRatio)\n",
    "# #plt.show()\n",
    "\n",
    "# #Finding number of principal components\n",
    "# #Retaining 99% of total variance \n",
    "# TotVar = 0 \n",
    "# for idx, Var in enumerate(VarianceRatio):\n",
    "#     TotVar += Var \n",
    "#     if(TotVar>=0.99): \n",
    "#         break \n",
    "# print('Total Retained Variance: {}'.format(TotVar)) \n",
    "# print('Number of principal components {}'.format(idx))\n",
    "\n",
    "# #Again fitting pca for 3 principal components\n",
    "# pcaRed = PCA(n_components = 5,whiten= True)\n",
    "# pcaRed.fit(X_train)\n",
    "# #Compressing training and testing data using fitted data\n",
    "# X_train_pca = pcaRed.transform(X_train)\n",
    "# X_test_pca = pcaRed.transform(X_test)\n",
    "\n",
    "# X_train_pca\n",
    "\n",
    "# #Concatenated train and test data\n",
    "# cov_type_data = np.concatenate((X_train_pca,y_train.values.reshape(-1,1)), axis=1)\n",
    "# test_cov_type_data = np.concatenate((X_test_pca,y_test.values.reshape(-1,1)), axis=1)\n",
    "\n",
    "# np.savetxt('cov_type_data.txt',cov_type_data,delimiter=',', fmt='%s')\n",
    "# np.savetxt('test_cov_type_data.txt',test_cov_type_data,delimiter=',', fmt='%s')"
   ]
  }
 ],
 "metadata": {
  "kernelspec": {
   "display_name": "Python 3",
   "language": "python",
   "name": "python3"
  },
  "language_info": {
   "codemirror_mode": {
    "name": "ipython",
    "version": 3
   },
   "file_extension": ".py",
   "mimetype": "text/x-python",
   "name": "python",
   "nbconvert_exporter": "python",
   "pygments_lexer": "ipython3",
   "version": "3.6.5"
  }
 },
 "nbformat": 4,
 "nbformat_minor": 2
}
